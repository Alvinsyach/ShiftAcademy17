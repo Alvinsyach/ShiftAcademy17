{
 "cells": [
  {
   "cell_type": "markdown",
   "id": "f79072e7",
   "metadata": {},
   "source": [
    "# Function"
   ]
  },
  {
   "cell_type": "code",
   "execution_count": 1,
   "id": "74a6ff74",
   "metadata": {},
   "outputs": [],
   "source": [
    "def cetak(str):\n",
    "    \"\"\"Fungsi ini mencetak/menampilkan string yang ditulis oleh user\"\"\"\n",
    "    print(str)"
   ]
  },
  {
   "cell_type": "code",
   "execution_count": 2,
   "id": "f6793587",
   "metadata": {
    "scrolled": true
   },
   "outputs": [
    {
     "name": "stdout",
     "output_type": "stream",
     "text": [
      "shift academy\n"
     ]
    }
   ],
   "source": [
    "cetak('shift academy')"
   ]
  },
  {
   "cell_type": "code",
   "execution_count": 12,
   "id": "58071243",
   "metadata": {},
   "outputs": [],
   "source": [
    "# rumus sisi * sisi\n",
    "def luas_persegi(sisi):\n",
    "    luas = sisi * sisi\n",
    "    return luas\n",
    "\n",
    "# rumus sisi * sisi * sisi\n",
    "def volume_persegi(sisi):\n",
    "    volume = luas_persegi(sisi) * sisi\n",
    "    return volume"
   ]
  },
  {
   "cell_type": "code",
   "execution_count": 13,
   "id": "f2c9776f",
   "metadata": {},
   "outputs": [
    {
     "data": {
      "text/plain": [
       "36"
      ]
     },
     "execution_count": 13,
     "metadata": {},
     "output_type": "execute_result"
    }
   ],
   "source": [
    "luas_persegi(6)"
   ]
  },
  {
   "cell_type": "code",
   "execution_count": 14,
   "id": "0a2ea3e5",
   "metadata": {},
   "outputs": [
    {
     "data": {
      "text/plain": [
       "64"
      ]
     },
     "execution_count": 14,
     "metadata": {},
     "output_type": "execute_result"
    }
   ],
   "source": [
    "volume_persegi(4)"
   ]
  },
  {
   "cell_type": "markdown",
   "id": "80981e4e",
   "metadata": {},
   "source": [
    "## Required Arguments"
   ]
  },
  {
   "cell_type": "code",
   "execution_count": 33,
   "id": "f95fcc48",
   "metadata": {},
   "outputs": [],
   "source": [
    "def cek_plat_nomor(tanggal, plat_nomor):\n",
    "    plat_nomor = plat_nomor.split('_') # ngasih tau format input plat nomer dipisahkan dengan _\n",
    "    plat_nomor = int(plat_nomor[1]) #format plat nomor B 1234 CDC. ambil [1] berarti ambil yang 1234\n",
    "    if tanggal %2 == 0:\n",
    "        if plat_nomor %2 == 0:\n",
    "            print('Anda lolos.')\n",
    "        else:\n",
    "            print('Anda ditilang')\n",
    "    else:\n",
    "        if plat_nomor % 2 == 0:\n",
    "            print('anda ditilang juga')\n",
    "        else:\n",
    "            print('anda lolos juga')\n",
    "    \n",
    "        "
   ]
  },
  {
   "cell_type": "code",
   "execution_count": 22,
   "id": "4af0979e",
   "metadata": {},
   "outputs": [
    {
     "name": "stdout",
     "output_type": "stream",
     "text": [
      "anda lolos juga\n"
     ]
    }
   ],
   "source": [
    "cek_plat_nomor(27, 'B_2759_RP')"
   ]
  },
  {
   "cell_type": "markdown",
   "id": "8650d986",
   "metadata": {},
   "source": [
    "## Keyword Arguments\n",
    "urutan input bisa diubah, asal ditulis ini maksudnya apa"
   ]
  },
  {
   "cell_type": "code",
   "execution_count": 30,
   "id": "cf236e96",
   "metadata": {},
   "outputs": [
    {
     "name": "stdout",
     "output_type": "stream",
     "text": [
      "Anda lolos.\n"
     ]
    }
   ],
   "source": [
    "cek_plat_nomor(plat_nomor = 'Z_1234_KL', tanggal = 26)"
   ]
  },
  {
   "cell_type": "code",
   "execution_count": 31,
   "id": "ae1e2488",
   "metadata": {},
   "outputs": [
    {
     "name": "stdout",
     "output_type": "stream",
     "text": [
      "anda lolos juga\n"
     ]
    }
   ],
   "source": [
    "cek_plat_nomor(tanggal = 9, plat_nomor = 'f_1423_rp')"
   ]
  },
  {
   "cell_type": "markdown",
   "id": "ef2d4da6",
   "metadata": {},
   "source": [
    "## Default Argument\n",
    "Mengansumsikan nilai default jika nilai tidak tersedia"
   ]
  },
  {
   "cell_type": "code",
   "execution_count": 71,
   "id": "6cf8ab88",
   "metadata": {},
   "outputs": [],
   "source": [
    "def total_gaji(basic_salary, bonus=500000, pajak=0.1, denda=3000000):\n",
    "    total_gaji = basic_salary + bonus - denda - (basic_salary*pajak)\n",
    "    result = print('Total Gaji : ',int(total_gaji))\n",
    "    return result"
   ]
  },
  {
   "cell_type": "code",
   "execution_count": 72,
   "id": "82b76ad9",
   "metadata": {},
   "outputs": [
    {
     "name": "stdout",
     "output_type": "stream",
     "text": [
      "Total Gaji :  4000000\n"
     ]
    }
   ],
   "source": [
    "total_gaji(basic_salary = 5000000, denda = 1000000)"
   ]
  },
  {
   "cell_type": "code",
   "execution_count": null,
   "id": "e3d2e259",
   "metadata": {},
   "outputs": [],
   "source": [
    "def total_gaji(basic_salary, bonus=500000, pajak=0.1, denda=3000000):\n",
    "    total_gaji = basic_salary + bonus - denda - (basic_salary*pajak)\n",
    "    result = f'Total Gaji : {int(total_gaji)}'\n",
    "    return result"
   ]
  },
  {
   "cell_type": "code",
   "execution_count": 65,
   "id": "482073d8",
   "metadata": {},
   "outputs": [],
   "source": [
    "# contoh eror\n",
    "def greet(name, msg='Good morning!'):\n",
    "    print(\"Hello\",name, ', ',msg)"
   ]
  },
  {
   "cell_type": "code",
   "execution_count": 66,
   "id": "f36d9f2d",
   "metadata": {
    "scrolled": true
   },
   "outputs": [
    {
     "name": "stdout",
     "output_type": "stream",
     "text": [
      "Hello kate ,  Good morning!\n"
     ]
    }
   ],
   "source": [
    "greet(\"kate\")"
   ]
  },
  {
   "cell_type": "code",
   "execution_count": 60,
   "id": "1aea7828",
   "metadata": {},
   "outputs": [
    {
     "name": "stdout",
     "output_type": "stream",
     "text": [
      "Hello kate, john\n"
     ]
    }
   ],
   "source": [
    "greet('kate','john')"
   ]
  },
  {
   "cell_type": "code",
   "execution_count": 46,
   "id": "e7009f59",
   "metadata": {},
   "outputs": [
    {
     "ename": "TypeError",
     "evalue": "greet() missing 1 required positional argument: 'name'",
     "output_type": "error",
     "traceback": [
      "\u001b[1;31m---------------------------------------------------------------------------\u001b[0m",
      "\u001b[1;31mTypeError\u001b[0m                                 Traceback (most recent call last)",
      "Input \u001b[1;32mIn [46]\u001b[0m, in \u001b[0;36m<cell line: 1>\u001b[1;34m()\u001b[0m\n\u001b[1;32m----> 1\u001b[0m \u001b[43mgreet\u001b[49m\u001b[43m(\u001b[49m\u001b[43m)\u001b[49m\n",
      "\u001b[1;31mTypeError\u001b[0m: greet() missing 1 required positional argument: 'name'"
     ]
    }
   ],
   "source": [
    "greet()"
   ]
  },
  {
   "cell_type": "markdown",
   "id": "fb26aaf5",
   "metadata": {},
   "source": [
    "## Variable Length Arguments"
   ]
  },
  {
   "cell_type": "code",
   "execution_count": 47,
   "id": "ca8ddeeb",
   "metadata": {},
   "outputs": [],
   "source": [
    "def total(*bilangan, **keywords):\n",
    "    hitung = 0\n",
    "    for bil in bilangan:\n",
    "        hitung += bil\n",
    "    for key in keywords:\n",
    "        hitung += keywords[key]\n",
    "    print(bilangan)\n",
    "    print(keywords)\n",
    "    return hitung"
   ]
  },
  {
   "cell_type": "code",
   "execution_count": 53,
   "id": "368d4ae2",
   "metadata": {},
   "outputs": [
    {
     "name": "stdout",
     "output_type": "stream",
     "text": [
      "(2, 4, 6)\n",
      "{'daging': 2, 'sayur': 10, 'buah': 3}\n"
     ]
    },
    {
     "data": {
      "text/plain": [
       "27"
      ]
     },
     "execution_count": 53,
     "metadata": {},
     "output_type": "execute_result"
    }
   ],
   "source": [
    "total(2,4,6,daging=2,sayur=10,buah=3)"
   ]
  },
  {
   "cell_type": "code",
   "execution_count": 69,
   "id": "7ac8738f",
   "metadata": {},
   "outputs": [],
   "source": [
    "def greet2(*name):\n",
    "    for i in name:\n",
    "        print('Hello',i)"
   ]
  },
  {
   "cell_type": "code",
   "execution_count": 70,
   "id": "0d1a4480",
   "metadata": {},
   "outputs": [
    {
     "name": "stdout",
     "output_type": "stream",
     "text": [
      "Hello tono\n",
      "Hello anto\n",
      "Hello budi\n",
      "Hello tarno\n"
     ]
    }
   ],
   "source": [
    "greet2('tono','anto','budi','tarno')"
   ]
  },
  {
   "cell_type": "markdown",
   "id": "498e8fdf",
   "metadata": {},
   "source": [
    "## Fungsi map\n",
    "Untuk apply sebuah fungsi ke dalam list/tupple"
   ]
  },
  {
   "cell_type": "code",
   "execution_count": 19,
   "id": "fd693113",
   "metadata": {
    "scrolled": false
   },
   "outputs": [
    {
     "name": "stdout",
     "output_type": "stream",
     "text": [
      "[0, 4, 9, 16, 25]\n"
     ]
    }
   ],
   "source": [
    "def hitungkuadrat(bil):\n",
    "    return bil*bil\n",
    "\n",
    "bilangan = [0, 2, 3, 4, 5]\n",
    "hasil = map(hitungkuadrat, bilangan)\n",
    "\n",
    "print(list(hasil))"
   ]
  },
  {
   "cell_type": "code",
   "execution_count": 73,
   "id": "ec3c0513",
   "metadata": {},
   "outputs": [],
   "source": [
    "def hitungkuadrat(bil):\n",
    "    return bil*bil"
   ]
  },
  {
   "cell_type": "code",
   "execution_count": 77,
   "id": "ae224cb3",
   "metadata": {},
   "outputs": [],
   "source": [
    "bilangan = (0, 2, 3, 4, 5)\n",
    "hasil = map(hitungkuadrat, bilangan)"
   ]
  },
  {
   "cell_type": "code",
   "execution_count": 79,
   "id": "41e96b51",
   "metadata": {},
   "outputs": [
    {
     "name": "stdout",
     "output_type": "stream",
     "text": [
      "[]\n"
     ]
    }
   ],
   "source": [
    "print(list(hasil))"
   ]
  },
  {
   "cell_type": "markdown",
   "id": "d2b69483",
   "metadata": {},
   "source": [
    "### Filter"
   ]
  },
  {
   "cell_type": "code",
   "execution_count": 83,
   "id": "730bd84a",
   "metadata": {},
   "outputs": [
    {
     "data": {
      "text/plain": [
       "(-2, 0, 2, 4, 6, 8)"
      ]
     },
     "execution_count": 83,
     "metadata": {},
     "output_type": "execute_result"
    }
   ],
   "source": [
    "def check_even(x):\n",
    "    return x%2 == 0\n",
    "\n",
    "nums = [-2,0,1,2,3,4,5,6,7,8]\n",
    "noms = (9,10,11,12,13,14,15)\n",
    "\n",
    "tuple(filter(check_even, nums))"
   ]
  },
  {
   "cell_type": "code",
   "execution_count": 86,
   "id": "f26fab9e",
   "metadata": {},
   "outputs": [
    {
     "name": "stdout",
     "output_type": "stream",
     "text": [
      "(8, 6, 4, 2, 0, -2)\n"
     ]
    }
   ],
   "source": [
    "print(tuple(filter(check_even, nums))[::-1])"
   ]
  },
  {
   "cell_type": "code",
   "execution_count": 24,
   "id": "6d4e2815",
   "metadata": {},
   "outputs": [
    {
     "data": {
      "text/plain": [
       "[1, 3, 5, 7]"
      ]
     },
     "execution_count": 24,
     "metadata": {},
     "output_type": "execute_result"
    }
   ],
   "source": [
    "def check_odds(x):\n",
    "    return x%2 != 0\n",
    "\n",
    "nomer = [1,2,3,4,5,6,7,8]\n",
    "\n",
    "list(filter(check_odds, nomer))"
   ]
  },
  {
   "cell_type": "markdown",
   "id": "ad43f733",
   "metadata": {},
   "source": [
    "### Lambda"
   ]
  },
  {
   "cell_type": "code",
   "execution_count": 25,
   "id": "e5fa8884",
   "metadata": {},
   "outputs": [
    {
     "name": "stdout",
     "output_type": "stream",
     "text": [
      "6\n"
     ]
    }
   ],
   "source": [
    "# Normal\n",
    "def tambah(x):\n",
    "    return x+1\n",
    "\n",
    "fungsi_1 = tambah (5)\n",
    "print(fungsi_1)"
   ]
  },
  {
   "cell_type": "code",
   "execution_count": 26,
   "id": "98a836ec",
   "metadata": {},
   "outputs": [
    {
     "name": "stdout",
     "output_type": "stream",
     "text": [
      "6\n"
     ]
    }
   ],
   "source": [
    "# dengan lambda\n",
    "fungsi_1 = lambda x : x + 1\n",
    "print(fungsi_1(5))"
   ]
  },
  {
   "cell_type": "code",
   "execution_count": 32,
   "id": "71da92d3",
   "metadata": {},
   "outputs": [
    {
     "name": "stdout",
     "output_type": "stream",
     "text": [
      "9\n"
     ]
    }
   ],
   "source": [
    "def tambah(x,y):\n",
    "    return x+y+2\n",
    "\n",
    "fungsi_2 = tambah(5,2)\n",
    "print(fungsi_2)"
   ]
  },
  {
   "cell_type": "code",
   "execution_count": 88,
   "id": "97509d47",
   "metadata": {},
   "outputs": [
    {
     "name": "stdout",
     "output_type": "stream",
     "text": [
      "13\n"
     ]
    }
   ],
   "source": [
    "fungsi_2 = lambda x,y : x+y+2\n",
    "print(fungsi_2(5,6))"
   ]
  },
  {
   "cell_type": "markdown",
   "id": "2e245a3e",
   "metadata": {},
   "source": [
    "### List Comprehensive"
   ]
  },
  {
   "cell_type": "code",
   "execution_count": 33,
   "id": "1222b23e",
   "metadata": {},
   "outputs": [
    {
     "name": "stdout",
     "output_type": "stream",
     "text": [
      "['h', 'u', 'm', 'a', 'n']\n"
     ]
    }
   ],
   "source": [
    "h_letters = [letter for letter in 'human']\n",
    "print(h_letters)"
   ]
  },
  {
   "cell_type": "code",
   "execution_count": 34,
   "id": "939a6a2d",
   "metadata": {},
   "outputs": [
    {
     "name": "stdout",
     "output_type": "stream",
     "text": [
      "['a', 'l', 'v', 'i', 'n']\n"
     ]
    }
   ],
   "source": [
    "h_letters = [letter for letter in 'alvin']\n",
    "print(h_letters)"
   ]
  },
  {
   "cell_type": "code",
   "execution_count": null,
   "id": "1460c345",
   "metadata": {},
   "outputs": [],
   "source": []
  }
 ],
 "metadata": {
  "kernelspec": {
   "display_name": "Python 3 (ipykernel)",
   "language": "python",
   "name": "python3"
  },
  "language_info": {
   "codemirror_mode": {
    "name": "ipython",
    "version": 3
   },
   "file_extension": ".py",
   "mimetype": "text/x-python",
   "name": "python",
   "nbconvert_exporter": "python",
   "pygments_lexer": "ipython3",
   "version": "3.9.12"
  }
 },
 "nbformat": 4,
 "nbformat_minor": 5
}
