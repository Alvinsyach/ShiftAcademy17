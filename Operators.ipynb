{
 "cells": [
  {
   "cell_type": "markdown",
   "id": "5bb9c213",
   "metadata": {},
   "source": [
    "## Operator Aritmatika"
   ]
  },
  {
   "cell_type": "code",
   "execution_count": 10,
   "id": "6d8c08c8",
   "metadata": {},
   "outputs": [],
   "source": [
    "a = 10\n",
    "b = 3\n",
    "c = 2"
   ]
  },
  {
   "cell_type": "code",
   "execution_count": 2,
   "id": "53b21c0e",
   "metadata": {},
   "outputs": [
    {
     "data": {
      "text/plain": [
       "13"
      ]
     },
     "execution_count": 2,
     "metadata": {},
     "output_type": "execute_result"
    }
   ],
   "source": [
    "a + b"
   ]
  },
  {
   "cell_type": "code",
   "execution_count": 3,
   "id": "e7ca9df3",
   "metadata": {},
   "outputs": [
    {
     "data": {
      "text/plain": [
       "7"
      ]
     },
     "execution_count": 3,
     "metadata": {},
     "output_type": "execute_result"
    }
   ],
   "source": [
    "a-b"
   ]
  },
  {
   "cell_type": "code",
   "execution_count": 4,
   "id": "d5cb21c2",
   "metadata": {},
   "outputs": [
    {
     "data": {
      "text/plain": [
       "30"
      ]
     },
     "execution_count": 4,
     "metadata": {},
     "output_type": "execute_result"
    }
   ],
   "source": [
    "a*b"
   ]
  },
  {
   "cell_type": "code",
   "execution_count": 5,
   "id": "ba311816",
   "metadata": {},
   "outputs": [
    {
     "data": {
      "text/plain": [
       "3.3333333333333335"
      ]
     },
     "execution_count": 5,
     "metadata": {},
     "output_type": "execute_result"
    }
   ],
   "source": [
    "a/b"
   ]
  },
  {
   "cell_type": "code",
   "execution_count": 6,
   "id": "4e51455e",
   "metadata": {},
   "outputs": [
    {
     "data": {
      "text/plain": [
       "1000"
      ]
     },
     "execution_count": 6,
     "metadata": {},
     "output_type": "execute_result"
    }
   ],
   "source": [
    "a**b # pangkat"
   ]
  },
  {
   "cell_type": "code",
   "execution_count": 7,
   "id": "966bbf26",
   "metadata": {},
   "outputs": [
    {
     "data": {
      "text/plain": [
       "3"
      ]
     },
     "execution_count": 7,
     "metadata": {},
     "output_type": "execute_result"
    }
   ],
   "source": [
    "a//b # pembagian bulat"
   ]
  },
  {
   "cell_type": "code",
   "execution_count": 8,
   "id": "9814ceba",
   "metadata": {},
   "outputs": [
    {
     "data": {
      "text/plain": [
       "1"
      ]
     },
     "execution_count": 8,
     "metadata": {},
     "output_type": "execute_result"
    }
   ],
   "source": [
    "a%b # modulo, menghasilkan sisa pembagian 2 bilangan"
   ]
  },
  {
   "cell_type": "code",
   "execution_count": 11,
   "id": "f499421e",
   "metadata": {},
   "outputs": [
    {
     "data": {
      "text/plain": [
       "0"
      ]
     },
     "execution_count": 11,
     "metadata": {},
     "output_type": "execute_result"
    }
   ],
   "source": [
    "a%c"
   ]
  },
  {
   "cell_type": "markdown",
   "id": "2fbc2ebb",
   "metadata": {},
   "source": [
    "## Operator Pembanding \n",
    "## Operator Penugasan\n",
    "Liat di modul PythonPart2 hal 6 - 7"
   ]
  },
  {
   "cell_type": "markdown",
   "id": "7f6afd49",
   "metadata": {},
   "source": [
    "## Operator Keanggotaan"
   ]
  },
  {
   "cell_type": "code",
   "execution_count": 13,
   "id": "aed8e5b6",
   "metadata": {},
   "outputs": [],
   "source": [
    "# in untuk mencari apakah a ada dalam list x\n",
    "# not in untuk mencari iapakah a tidak ada dalam list x\n",
    "# hasilnya boolean (true/false)"
   ]
  },
  {
   "cell_type": "code",
   "execution_count": 25,
   "id": "b43e0fd6",
   "metadata": {},
   "outputs": [
    {
     "name": "stdout",
     "output_type": "stream",
     "text": [
      "False\n",
      "True\n",
      "False\n",
      "True\n"
     ]
    }
   ],
   "source": [
    "Perusahaan = 'Mitsubishi'\n",
    "Mobil = ['Mitsubishi','Honda','Toyota']\n",
    "\n",
    "print('a' in Perusahaan)\n",
    "print('I' in Perusahaan.upper())\n",
    "print('honda' in Mobil)\n",
    "print('Yamaha' not in Mobil)"
   ]
  },
  {
   "cell_type": "code",
   "execution_count": 23,
   "id": "fefb575d",
   "metadata": {},
   "outputs": [
    {
     "name": "stdout",
     "output_type": "stream",
     "text": [
      "mitsubishi\n"
     ]
    }
   ],
   "source": [
    "print(Perusahaan.lower())"
   ]
  },
  {
   "cell_type": "markdown",
   "id": "15115acb",
   "metadata": {},
   "source": [
    "## Operator Identitas"
   ]
  },
  {
   "cell_type": "code",
   "execution_count": 26,
   "id": "e9cb3a2d",
   "metadata": {},
   "outputs": [],
   "source": [
    "# untuk menanyakan persamaan\n",
    "# is untuk apakah sama\n",
    "# is not untuk apakah tidak sama\n",
    "# Hasilnya boolean (true/false)\n",
    "# tidak bisa digunakan untuk list"
   ]
  },
  {
   "cell_type": "code",
   "execution_count": 27,
   "id": "7a99c1bc",
   "metadata": {},
   "outputs": [],
   "source": [
    "a = 5\n",
    "b = 5\n",
    "c = [1,2,3]\n",
    "d = [1,2,3]"
   ]
  },
  {
   "cell_type": "code",
   "execution_count": 28,
   "id": "46d51911",
   "metadata": {},
   "outputs": [
    {
     "name": "stdout",
     "output_type": "stream",
     "text": [
      "True\n",
      "False\n",
      "False\n",
      "True\n"
     ]
    }
   ],
   "source": [
    "print(a is b)\n",
    "print(a is not b)\n",
    "print(c is d)\n",
    "print(c == d)"
   ]
  },
  {
   "cell_type": "code",
   "execution_count": null,
   "id": "85ab527f",
   "metadata": {},
   "outputs": [],
   "source": []
  }
 ],
 "metadata": {
  "kernelspec": {
   "display_name": "Python 3 (ipykernel)",
   "language": "python",
   "name": "python3"
  },
  "language_info": {
   "codemirror_mode": {
    "name": "ipython",
    "version": 3
   },
   "file_extension": ".py",
   "mimetype": "text/x-python",
   "name": "python",
   "nbconvert_exporter": "python",
   "pygments_lexer": "ipython3",
   "version": "3.9.12"
  }
 },
 "nbformat": 4,
 "nbformat_minor": 5
}
