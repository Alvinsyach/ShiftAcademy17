{
 "cells": [
  {
   "cell_type": "code",
   "execution_count": null,
   "id": "8e33ce50",
   "metadata": {},
   "outputs": [],
   "source": []
  },
  {
   "cell_type": "code",
   "execution_count": 1,
   "id": "de04ddc6",
   "metadata": {},
   "outputs": [],
   "source": [
    "import pandas as pd\n",
    "import numpy as np\n",
    "import matplotlib.pyplot as plt\n",
    "import seaborn as sns"
   ]
  },
  {
   "cell_type": "code",
   "execution_count": 1,
   "id": "82242ff3",
   "metadata": {},
   "outputs": [
    {
     "data": {
      "text/plain": [
       "28"
      ]
     },
     "execution_count": 1,
     "metadata": {},
     "output_type": "execute_result"
    }
   ],
   "source": [
    "a = 4\n",
    "b = 6\n",
    "a*b+a"
   ]
  },
  {
   "cell_type": "code",
   "execution_count": 5,
   "id": "b9308ede",
   "metadata": {},
   "outputs": [],
   "source": [
    "#this is command"
   ]
  },
  {
   "cell_type": "code",
   "execution_count": 6,
   "id": "a5a39fc5",
   "metadata": {},
   "outputs": [
    {
     "ename": "NameError",
     "evalue": "name 'this' is not defined",
     "output_type": "error",
     "traceback": [
      "\u001b[1;31m---------------------------------------------------------------------------\u001b[0m",
      "\u001b[1;31mNameError\u001b[0m                                 Traceback (most recent call last)",
      "Input \u001b[1;32mIn [6]\u001b[0m, in \u001b[0;36m<cell line: 1>\u001b[1;34m()\u001b[0m\n\u001b[1;32m----> 1\u001b[0m \u001b[43mthis\u001b[49m \u001b[38;5;129;01mis\u001b[39;00m command\n",
      "\u001b[1;31mNameError\u001b[0m: name 'this' is not defined"
     ]
    }
   ],
   "source": [
    "this is command"
   ]
  },
  {
   "cell_type": "markdown",
   "id": "d959107e",
   "metadata": {},
   "source": [
    "ini adalah format Markdown"
   ]
  },
  {
   "cell_type": "markdown",
   "id": "4336fb81",
   "metadata": {},
   "source": [
    "# heading 1\n",
    "## heading 2\n",
    "### heading 3\n",
    "#### heading 4\n"
   ]
  },
  {
   "cell_type": "code",
   "execution_count": 3,
   "id": "788d5728",
   "metadata": {},
   "outputs": [
    {
     "name": "stdout",
     "output_type": "stream",
     "text": [
      "hello world\n"
     ]
    }
   ],
   "source": [
    "print('hello world')"
   ]
  },
  {
   "cell_type": "markdown",
   "id": "60b9426b",
   "metadata": {},
   "source": [
    "# Data Types in Python"
   ]
  },
  {
   "cell_type": "markdown",
   "id": "66f9f1e0",
   "metadata": {},
   "source": [
    "### String"
   ]
  },
  {
   "cell_type": "code",
   "execution_count": 8,
   "id": "b8f25d8f",
   "metadata": {},
   "outputs": [
    {
     "name": "stdout",
     "output_type": "stream",
     "text": [
      "hello world\n"
     ]
    }
   ],
   "source": [
    "x = 'hello world'\n",
    "print (x)"
   ]
  },
  {
   "cell_type": "code",
   "execution_count": 9,
   "id": "00be2daa",
   "metadata": {},
   "outputs": [
    {
     "name": "stdout",
     "output_type": "stream",
     "text": [
      "3\n"
     ]
    }
   ],
   "source": [
    "y = '3'\n",
    "print (y)"
   ]
  },
  {
   "cell_type": "code",
   "execution_count": 10,
   "id": "5e552a3c",
   "metadata": {},
   "outputs": [
    {
     "data": {
      "text/plain": [
       "str"
      ]
     },
     "execution_count": 10,
     "metadata": {},
     "output_type": "execute_result"
    }
   ],
   "source": [
    "type(y)"
   ]
  },
  {
   "cell_type": "code",
   "execution_count": 11,
   "id": "b27d7b91",
   "metadata": {},
   "outputs": [
    {
     "name": "stdout",
     "output_type": "stream",
     "text": [
      "helloworld\n"
     ]
    }
   ],
   "source": [
    "a = 'hello'\n",
    "b = 'world'\n",
    "print (a+b)"
   ]
  },
  {
   "cell_type": "code",
   "execution_count": 12,
   "id": "f28cb9d4",
   "metadata": {},
   "outputs": [
    {
     "name": "stdout",
     "output_type": "stream",
     "text": [
      "hellohellohello\n"
     ]
    }
   ],
   "source": [
    "print(a*3)"
   ]
  },
  {
   "cell_type": "code",
   "execution_count": 17,
   "id": "ffa8742c",
   "metadata": {},
   "outputs": [
    {
     "data": {
      "text/plain": [
       "'l'"
      ]
     },
     "execution_count": 17,
     "metadata": {},
     "output_type": "execute_result"
    }
   ],
   "source": [
    "x [3] # mengakses elemen dengan index 3 dari string x"
   ]
  },
  {
   "cell_type": "markdown",
   "id": "6183875c",
   "metadata": {},
   "source": [
    "di python angka mulai dr nol. x itu kan hello world, jadi x[3] adalah huruf ke 4 "
   ]
  },
  {
   "cell_type": "code",
   "execution_count": 19,
   "id": "2b9ed6f6",
   "metadata": {},
   "outputs": [
    {
     "data": {
      "text/plain": [
       "'hel'"
      ]
     },
     "execution_count": 19,
     "metadata": {},
     "output_type": "execute_result"
    }
   ],
   "source": [
    "x [0:3] # dinamakan slicing. mengambil elemen dari index 0 sampai 2 dari string x. Klo mau ambil 4 index, berarti tulisnya [0:4]"
   ]
  },
  {
   "cell_type": "code",
   "execution_count": 20,
   "id": "d28fbd85",
   "metadata": {
    "scrolled": true
   },
   "outputs": [
    {
     "data": {
      "text/plain": [
       "'hell'"
      ]
     },
     "execution_count": 20,
     "metadata": {},
     "output_type": "execute_result"
    }
   ],
   "source": [
    "x [:4] # gaperlu nulis angka depan klo mau ambil dr awal"
   ]
  },
  {
   "cell_type": "code",
   "execution_count": 23,
   "id": "bc76e96e",
   "metadata": {
    "scrolled": true
   },
   "outputs": [
    {
     "data": {
      "text/plain": [
       "' world'"
      ]
     },
     "execution_count": 23,
     "metadata": {},
     "output_type": "execute_result"
    }
   ],
   "source": [
    "x [5:] # ga perlu nulis angka belakang klo mau ambil sampe akhir"
   ]
  },
  {
   "cell_type": "code",
   "execution_count": 24,
   "id": "0808a520",
   "metadata": {},
   "outputs": [
    {
     "data": {
      "text/plain": [
       "'l'"
      ]
     },
     "execution_count": 24,
     "metadata": {},
     "output_type": "execute_result"
    }
   ],
   "source": [
    "x [-2] # dikasih minus jadi mengambil data dari belakang"
   ]
  },
  {
   "cell_type": "code",
   "execution_count": 22,
   "id": "7860e783",
   "metadata": {},
   "outputs": [
    {
     "data": {
      "text/plain": [
       "'orl'"
      ]
     },
     "execution_count": 22,
     "metadata": {},
     "output_type": "execute_result"
    }
   ],
   "source": [
    "b [1:4]"
   ]
  },
  {
   "cell_type": "markdown",
   "id": "e6c348b5",
   "metadata": {},
   "source": [
    "### Numeric"
   ]
  },
  {
   "cell_type": "code",
   "execution_count": 14,
   "id": "f45224e2",
   "metadata": {},
   "outputs": [
    {
     "name": "stdout",
     "output_type": "stream",
     "text": [
      "15\n"
     ]
    }
   ],
   "source": [
    "c = 5\n",
    "d = 10\n",
    "print(c+d)"
   ]
  },
  {
   "cell_type": "code",
   "execution_count": 15,
   "id": "7095adb1",
   "metadata": {},
   "outputs": [
    {
     "data": {
      "text/plain": [
       "int"
      ]
     },
     "execution_count": 15,
     "metadata": {},
     "output_type": "execute_result"
    }
   ],
   "source": [
    "type(c+d)"
   ]
  },
  {
   "cell_type": "code",
   "execution_count": 25,
   "id": "adc03bad",
   "metadata": {},
   "outputs": [
    {
     "data": {
      "text/plain": [
       "float"
      ]
     },
     "execution_count": 25,
     "metadata": {},
     "output_type": "execute_result"
    }
   ],
   "source": [
    "c2 = 3.14\n",
    "type (c2)"
   ]
  },
  {
   "cell_type": "code",
   "execution_count": 4,
   "id": "2cc183a5",
   "metadata": {},
   "outputs": [
    {
     "data": {
      "text/plain": [
       "complex"
      ]
     },
     "execution_count": 4,
     "metadata": {},
     "output_type": "execute_result"
    }
   ],
   "source": [
    "c3 = 7j\n",
    "type (c3)"
   ]
  },
  {
   "cell_type": "code",
   "execution_count": 28,
   "id": "c7766802",
   "metadata": {},
   "outputs": [
    {
     "data": {
      "text/plain": [
       "9"
      ]
     },
     "execution_count": 28,
     "metadata": {},
     "output_type": "execute_result"
    }
   ],
   "source": [
    "3 ** 2 # double * berarti pangkat"
   ]
  },
  {
   "cell_type": "code",
   "execution_count": 5,
   "id": "39eaf49f",
   "metadata": {},
   "outputs": [
    {
     "ename": "NameError",
     "evalue": "name 'a' is not defined",
     "output_type": "error",
     "traceback": [
      "\u001b[1;31m---------------------------------------------------------------------------\u001b[0m",
      "\u001b[1;31mNameError\u001b[0m                                 Traceback (most recent call last)",
      "Input \u001b[1;32mIn [5]\u001b[0m, in \u001b[0;36m<cell line: 1>\u001b[1;34m()\u001b[0m\n\u001b[1;32m----> 1\u001b[0m \u001b[38;5;28mprint\u001b[39m (c3\u001b[38;5;241m+\u001b[39m\u001b[43ma\u001b[49m)\n",
      "\u001b[1;31mNameError\u001b[0m: name 'a' is not defined"
     ]
    }
   ],
   "source": [
    "print (c3+a)"
   ]
  },
  {
   "cell_type": "markdown",
   "id": "057965d6",
   "metadata": {},
   "source": [
    "### Boolean (True or False)"
   ]
  },
  {
   "cell_type": "code",
   "execution_count": 32,
   "id": "923113d2",
   "metadata": {},
   "outputs": [
    {
     "data": {
      "text/plain": [
       "bool"
      ]
     },
     "execution_count": 32,
     "metadata": {},
     "output_type": "execute_result"
    }
   ],
   "source": [
    "type(True)"
   ]
  },
  {
   "cell_type": "code",
   "execution_count": 33,
   "id": "a9f43eac",
   "metadata": {},
   "outputs": [
    {
     "data": {
      "text/plain": [
       "bool"
      ]
     },
     "execution_count": 33,
     "metadata": {},
     "output_type": "execute_result"
    }
   ],
   "source": [
    "type(False)"
   ]
  },
  {
   "cell_type": "code",
   "execution_count": 35,
   "id": "7b3f5290",
   "metadata": {},
   "outputs": [
    {
     "name": "stdout",
     "output_type": "stream",
     "text": [
      "False\n"
     ]
    }
   ],
   "source": [
    "print(5 == 30) # double = untuk menyatakan persamaan"
   ]
  },
  {
   "cell_type": "code",
   "execution_count": 36,
   "id": "df160ac5",
   "metadata": {},
   "outputs": [
    {
     "name": "stdout",
     "output_type": "stream",
     "text": [
      "True\n"
     ]
    }
   ],
   "source": [
    "print (5 > 3)"
   ]
  },
  {
   "cell_type": "code",
   "execution_count": 37,
   "id": "18e880ac",
   "metadata": {},
   "outputs": [
    {
     "name": "stdout",
     "output_type": "stream",
     "text": [
      "True\n"
     ]
    }
   ],
   "source": [
    "print(5 != 7) # != untuk menanyakan pertidaksamaan"
   ]
  },
  {
   "cell_type": "code",
   "execution_count": 39,
   "id": "7b28f1fe",
   "metadata": {},
   "outputs": [
    {
     "data": {
      "text/plain": [
       "True"
      ]
     },
     "execution_count": 39,
     "metadata": {},
     "output_type": "execute_result"
    }
   ],
   "source": [
    "'Jakarta' == \"Jakarta\""
   ]
  },
  {
   "cell_type": "code",
   "execution_count": 40,
   "id": "6fc683b6",
   "metadata": {},
   "outputs": [
    {
     "data": {
      "text/plain": [
       "False"
      ]
     },
     "execution_count": 40,
     "metadata": {},
     "output_type": "execute_result"
    }
   ],
   "source": [
    "'Jakarta'=='jakarta'"
   ]
  },
  {
   "cell_type": "code",
   "execution_count": 42,
   "id": "6b524cdd",
   "metadata": {},
   "outputs": [
    {
     "data": {
      "text/plain": [
       "'hello world'"
      ]
     },
     "execution_count": 42,
     "metadata": {},
     "output_type": "execute_result"
    }
   ],
   "source": [
    "x"
   ]
  },
  {
   "cell_type": "code",
   "execution_count": 41,
   "id": "4cb1fd02",
   "metadata": {},
   "outputs": [
    {
     "data": {
      "text/plain": [
       "'dlrow olleh'"
      ]
     },
     "execution_count": 41,
     "metadata": {},
     "output_type": "execute_result"
    }
   ],
   "source": [
    "x[::-1] # untuk merubah urutan huruf"
   ]
  },
  {
   "cell_type": "code",
   "execution_count": 43,
   "id": "160022f5",
   "metadata": {},
   "outputs": [
    {
     "data": {
      "text/plain": [
       "'hlowrd'"
      ]
     },
     "execution_count": 43,
     "metadata": {},
     "output_type": "execute_result"
    }
   ],
   "source": [
    "x[::2] # untuk longkap"
   ]
  },
  {
   "cell_type": "markdown",
   "id": "9d109bea",
   "metadata": {},
   "source": [
    "### List (bisa berisi banyak type)"
   ]
  },
  {
   "cell_type": "code",
   "execution_count": 44,
   "id": "e6752b16",
   "metadata": {},
   "outputs": [],
   "source": [
    "my_list1 = [1,2,3,4]"
   ]
  },
  {
   "cell_type": "code",
   "execution_count": 46,
   "id": "790b6e4b",
   "metadata": {},
   "outputs": [
    {
     "name": "stdout",
     "output_type": "stream",
     "text": [
      "[1, 2, 3, 4]\n"
     ]
    }
   ],
   "source": [
    "print(my_list1)"
   ]
  },
  {
   "cell_type": "code",
   "execution_count": 47,
   "id": "df4c5cd7",
   "metadata": {},
   "outputs": [
    {
     "data": {
      "text/plain": [
       "list"
      ]
     },
     "execution_count": 47,
     "metadata": {},
     "output_type": "execute_result"
    }
   ],
   "source": [
    "type(my_list1)"
   ]
  },
  {
   "cell_type": "code",
   "execution_count": 7,
   "id": "b16e5fe4",
   "metadata": {},
   "outputs": [
    {
     "name": "stdout",
     "output_type": "stream",
     "text": [
      "[1, 'hello', True, [3, 4, 5]]\n"
     ]
    }
   ],
   "source": [
    "my_list2 = [1, 'hello',True, [3,4,5]]\n",
    "print(my_list2)"
   ]
  },
  {
   "cell_type": "code",
   "execution_count": 50,
   "id": "b18f8bcb",
   "metadata": {},
   "outputs": [
    {
     "data": {
      "text/plain": [
       "bool"
      ]
     },
     "execution_count": 50,
     "metadata": {},
     "output_type": "execute_result"
    }
   ],
   "source": [
    "type(my_list2[2])"
   ]
  },
  {
   "cell_type": "code",
   "execution_count": 51,
   "id": "f3ba6fa6",
   "metadata": {},
   "outputs": [
    {
     "data": {
      "text/plain": [
       "4"
      ]
     },
     "execution_count": 51,
     "metadata": {},
     "output_type": "execute_result"
    }
   ],
   "source": [
    "my_list2[3][1] # ambil list dalam list"
   ]
  },
  {
   "cell_type": "code",
   "execution_count": 52,
   "id": "c13495f4",
   "metadata": {},
   "outputs": [
    {
     "data": {
      "text/plain": [
       "11"
      ]
     },
     "execution_count": 52,
     "metadata": {},
     "output_type": "execute_result"
    }
   ],
   "source": [
    "len(x) # length untuk menghitung panjang string x"
   ]
  },
  {
   "cell_type": "code",
   "execution_count": 53,
   "id": "de0acce8",
   "metadata": {},
   "outputs": [
    {
     "data": {
      "text/plain": [
       "5"
      ]
     },
     "execution_count": 53,
     "metadata": {},
     "output_type": "execute_result"
    }
   ],
   "source": [
    "len(my_list2[1])"
   ]
  },
  {
   "cell_type": "code",
   "execution_count": 54,
   "id": "c4b99873",
   "metadata": {},
   "outputs": [],
   "source": [
    "my_list2[2]=False # merubah konten dalam list"
   ]
  },
  {
   "cell_type": "code",
   "execution_count": 55,
   "id": "c4494ee9",
   "metadata": {},
   "outputs": [
    {
     "name": "stdout",
     "output_type": "stream",
     "text": [
      "[1, 'hello', False, [3, 4, 5]]\n"
     ]
    }
   ],
   "source": [
    "print(my_list2)"
   ]
  },
  {
   "cell_type": "code",
   "execution_count": 56,
   "id": "336fc9cf",
   "metadata": {},
   "outputs": [
    {
     "data": {
      "text/plain": [
       "[3, 4, 5]"
      ]
     },
     "execution_count": 56,
     "metadata": {},
     "output_type": "execute_result"
    }
   ],
   "source": [
    "my_list2.pop() #menghilangkan item terakhir dalamm list"
   ]
  },
  {
   "cell_type": "code",
   "execution_count": 8,
   "id": "ee69d106",
   "metadata": {},
   "outputs": [
    {
     "name": "stdout",
     "output_type": "stream",
     "text": [
      "[1, 'hello', True, [3, 4, 5]]\n"
     ]
    }
   ],
   "source": [
    "print(my_list2)"
   ]
  },
  {
   "cell_type": "code",
   "execution_count": 9,
   "id": "d9d6d378",
   "metadata": {},
   "outputs": [],
   "source": [
    "my_list2.remove(1) #menghapus elemen yang ada (1)-nya"
   ]
  },
  {
   "cell_type": "code",
   "execution_count": 10,
   "id": "65a42654",
   "metadata": {},
   "outputs": [
    {
     "name": "stdout",
     "output_type": "stream",
     "text": [
      "['hello', True, [3, 4, 5]]\n"
     ]
    }
   ],
   "source": [
    "print(my_list2)"
   ]
  },
  {
   "cell_type": "code",
   "execution_count": 65,
   "id": "9d86f594",
   "metadata": {},
   "outputs": [],
   "source": [
    "del my_list2[1] #menghapus item keberapa dalam list"
   ]
  },
  {
   "cell_type": "code",
   "execution_count": 71,
   "id": "3a201839",
   "metadata": {},
   "outputs": [
    {
     "name": "stdout",
     "output_type": "stream",
     "text": [
      "['hello', 3.14, 3.14, 3.14, True]\n"
     ]
    }
   ],
   "source": [
    "print(my_list2)"
   ]
  },
  {
   "cell_type": "code",
   "execution_count": 67,
   "id": "04624154",
   "metadata": {},
   "outputs": [
    {
     "name": "stdout",
     "output_type": "stream",
     "text": [
      "['hello', True]\n"
     ]
    }
   ],
   "source": [
    "my_list2.append(True) # menambahkan item ke dalam list\n",
    "print(my_list2)"
   ]
  },
  {
   "cell_type": "code",
   "execution_count": 70,
   "id": "1e42e171",
   "metadata": {},
   "outputs": [
    {
     "name": "stdout",
     "output_type": "stream",
     "text": [
      "['hello', 3.14, 3.14, 3.14, True]\n"
     ]
    }
   ],
   "source": [
    "my_list2.insert(1,3.14) #menambahkan item pada posisi tertentu (nambahin 3.14 di urutan 1)\n",
    "print(my_list2)"
   ]
  },
  {
   "cell_type": "code",
   "execution_count": 77,
   "id": "bd34e261",
   "metadata": {},
   "outputs": [
    {
     "name": "stdout",
     "output_type": "stream",
     "text": [
      "['hello', 3.14, 3.14, True]\n"
     ]
    }
   ],
   "source": [
    "my_list2.remove(3.14)\n",
    "print(my_list2)"
   ]
  },
  {
   "cell_type": "code",
   "execution_count": 75,
   "id": "582766e8",
   "metadata": {
    "scrolled": true
   },
   "outputs": [
    {
     "name": "stdout",
     "output_type": "stream",
     "text": [
      "['hello', 3.14, 3.14, 3.14, True]\n"
     ]
    }
   ],
   "source": [
    "print(my_list2)"
   ]
  },
  {
   "cell_type": "code",
   "execution_count": 21,
   "id": "22b76c5e",
   "metadata": {},
   "outputs": [
    {
     "name": "stdout",
     "output_type": "stream",
     "text": [
      "here is the ori list\n",
      "['polygon', 'element', 'dahon', 'united']\n",
      "here is the shorted list\n",
      "['dahon', 'element', 'polygon', 'united']\n",
      "back to ori\n",
      "['polygon', 'element', 'dahon', 'united']\n"
     ]
    }
   ],
   "source": [
    "bike = ['polygon','element','dahon','united']\n",
    "print('here is the ori list')\n",
    "print(bike)\n",
    "\n",
    "print('here is the shorted list')\n",
    "print(sorted(bike))\n",
    "\n",
    "print('back to ori')\n",
    "print(bike)"
   ]
  },
  {
   "cell_type": "code",
   "execution_count": 22,
   "id": "55ba3bbd",
   "metadata": {},
   "outputs": [
    {
     "name": "stdout",
     "output_type": "stream",
     "text": [
      "['dahon', 'element', 'polygon', 'united']\n"
     ]
    }
   ],
   "source": [
    "bike.sort()\n",
    "print(bike)"
   ]
  },
  {
   "cell_type": "code",
   "execution_count": 24,
   "id": "c6effb86",
   "metadata": {},
   "outputs": [
    {
     "name": "stdout",
     "output_type": "stream",
     "text": [
      "['united', 'polygon', 'element', 'dahon']\n"
     ]
    }
   ],
   "source": [
    "bike.sort(reverse= True)\n",
    "print(bike)"
   ]
  },
  {
   "cell_type": "code",
   "execution_count": 25,
   "id": "a40b1571",
   "metadata": {},
   "outputs": [],
   "source": [
    "angka = [1,2,3,4,5,6,7,8]"
   ]
  },
  {
   "cell_type": "code",
   "execution_count": 26,
   "id": "02a17dd0",
   "metadata": {},
   "outputs": [
    {
     "data": {
      "text/plain": [
       "8"
      ]
     },
     "execution_count": 26,
     "metadata": {},
     "output_type": "execute_result"
    }
   ],
   "source": [
    "max(angka)"
   ]
  },
  {
   "cell_type": "code",
   "execution_count": 27,
   "id": "58a9a06f",
   "metadata": {},
   "outputs": [
    {
     "name": "stdout",
     "output_type": "stream",
     "text": [
      "1\n"
     ]
    }
   ],
   "source": [
    "print(min(angka))"
   ]
  },
  {
   "cell_type": "code",
   "execution_count": 29,
   "id": "5d4df98b",
   "metadata": {},
   "outputs": [
    {
     "name": "stdout",
     "output_type": "stream",
     "text": [
      "36\n"
     ]
    }
   ],
   "source": [
    "print(sum(angka))"
   ]
  },
  {
   "cell_type": "code",
   "execution_count": 35,
   "id": "f2d303cf",
   "metadata": {},
   "outputs": [
    {
     "name": "stdout",
     "output_type": "stream",
     "text": [
      "[8, 7, 6, 5, 4, 3, 2, 1]\n"
     ]
    }
   ],
   "source": [
    "list.reverse(angka)\n",
    "print(angka)"
   ]
  },
  {
   "cell_type": "code",
   "execution_count": null,
   "id": "b08352a4",
   "metadata": {},
   "outputs": [],
   "source": []
  },
  {
   "cell_type": "markdown",
   "id": "0bfc3583",
   "metadata": {},
   "source": [
    "### IF"
   ]
  },
  {
   "cell_type": "code",
   "execution_count": 4,
   "id": "41d18774",
   "metadata": {},
   "outputs": [],
   "source": [
    "J = 20"
   ]
  },
  {
   "cell_type": "code",
   "execution_count": 5,
   "id": "0415a7d7",
   "metadata": {},
   "outputs": [
    {
     "name": "stdout",
     "output_type": "stream",
     "text": [
      "jiahh\n"
     ]
    }
   ],
   "source": [
    "if J < 10:\n",
    "    print(\"yuhuuu\")\n",
    "if J > 10:\n",
    "    print (\"jiahh\")"
   ]
  },
  {
   "cell_type": "code",
   "execution_count": 16,
   "id": "e9b0e96e",
   "metadata": {},
   "outputs": [],
   "source": [
    "nilai = 80\n",
    "usia = 14"
   ]
  },
  {
   "cell_type": "code",
   "execution_count": 10,
   "id": "89a45508",
   "metadata": {},
   "outputs": [
    {
     "name": "stdout",
     "output_type": "stream",
     "text": [
      "anda tidak lulus\n"
     ]
    }
   ],
   "source": [
    "# if, else (jika a, yg lainnya b)\n",
    "if nilai < 75:\n",
    "    print (\"anda tidak lulus\")\n",
    "else: print (\"selamattt\")"
   ]
  },
  {
   "cell_type": "code",
   "execution_count": 12,
   "id": "c08bf909",
   "metadata": {},
   "outputs": [],
   "source": [
    "bilangan = 1"
   ]
  },
  {
   "cell_type": "code",
   "execution_count": 13,
   "id": "06a80ddf",
   "metadata": {},
   "outputs": [
    {
     "name": "stdout",
     "output_type": "stream",
     "text": [
      "bilangan positif\n"
     ]
    }
   ],
   "source": [
    "# if, elif, else (jika tidak if, maka elif. jika tidak elif, maka else (berurutan))\n",
    "if bilangan > 0:\n",
    "    print (\"bilangan positif\")\n",
    "elif bilangan == 0:\n",
    "    print (\"nol\")\n",
    "else:\n",
    "    print (\"bilangan negatif\")"
   ]
  },
  {
   "cell_type": "code",
   "execution_count": 17,
   "id": "c3aa38e8",
   "metadata": {},
   "outputs": [
    {
     "name": "stdout",
     "output_type": "stream",
     "text": [
      "Adik lulus yaa\n"
     ]
    }
   ],
   "source": [
    "# if bertingkat (nested if)\n",
    "if nilai > 75:\n",
    "    if usia < 15:\n",
    "        print(\"Adik lulus yaa\")\n",
    "    else:\n",
    "        print (\"kakak lulus ya\")\n",
    "else:\n",
    "    if usia < 15:\n",
    "        print (\"so sadd adik belum lulus\")\n",
    "    else:\n",
    "        print (\"so sadd kakak belum lulus\")"
   ]
  },
  {
   "cell_type": "code",
   "execution_count": 44,
   "id": "18d3f705",
   "metadata": {},
   "outputs": [
    {
     "name": "stdout",
     "output_type": "stream",
     "text": [
      "masukan nilai anda: 85.4\n",
      "Lulus\n"
     ]
    }
   ],
   "source": [
    "nilai = float(input('masukan nilai anda: '))\n",
    "\n",
    "if nilai >= 75:\n",
    "    print('Lulus')\n",
    "\n",
    "else:\n",
    "    print('Tidak lulus')"
   ]
  },
  {
   "cell_type": "markdown",
   "id": "00002130",
   "metadata": {},
   "source": [
    "### Loop"
   ]
  },
  {
   "cell_type": "code",
   "execution_count": 18,
   "id": "06434ff7",
   "metadata": {},
   "outputs": [
    {
     "name": "stdout",
     "output_type": "stream",
     "text": [
      "Mobil\n",
      "motor\n",
      "kereta api\n",
      "pesawat\n"
     ]
    }
   ],
   "source": [
    "# For loop\n",
    "Kendaraan = ['Mobil', 'motor', 'kereta api', 'pesawat']\n",
    "for vehicle in Kendaraan:\n",
    "    print (vehicle)"
   ]
  },
  {
   "cell_type": "code",
   "execution_count": 45,
   "id": "a75cb329",
   "metadata": {},
   "outputs": [
    {
     "name": "stdout",
     "output_type": "stream",
     "text": [
      "Mobil\n",
      "motor\n",
      "kereta api\n",
      "pesawat\n"
     ]
    }
   ],
   "source": [
    "Kendaraan = ['Mobil', 'motor', 'kereta api', 'pesawat']\n",
    "for i in Kendaraan:\n",
    "    print (i)"
   ]
  },
  {
   "cell_type": "code",
   "execution_count": 55,
   "id": "b5d77344",
   "metadata": {},
   "outputs": [],
   "source": [
    "list2 = [1,2,3,4,5,6,7,8]"
   ]
  },
  {
   "cell_type": "code",
   "execution_count": 60,
   "id": "60d8bfb4",
   "metadata": {},
   "outputs": [
    {
     "name": "stdout",
     "output_type": "stream",
     "text": [
      "[3, 4, 5]\n"
     ]
    }
   ],
   "source": [
    "print(list2[2:5])"
   ]
  },
  {
   "cell_type": "code",
   "execution_count": 56,
   "id": "d2e86fff",
   "metadata": {},
   "outputs": [
    {
     "ename": "TypeError",
     "evalue": "'list' object is not callable",
     "output_type": "error",
     "traceback": [
      "\u001b[1;31m---------------------------------------------------------------------------\u001b[0m",
      "\u001b[1;31mTypeError\u001b[0m                                 Traceback (most recent call last)",
      "Input \u001b[1;32mIn [56]\u001b[0m, in \u001b[0;36m<cell line: 1>\u001b[1;34m()\u001b[0m\n\u001b[1;32m----> 1\u001b[0m \u001b[38;5;28mprint\u001b[39m(\u001b[38;5;28;43mlist\u001b[39;49m\u001b[43m(\u001b[49m\u001b[38;5;28;43mrange\u001b[39;49m\u001b[43m(\u001b[49m\u001b[38;5;241;43m2\u001b[39;49m\u001b[43m,\u001b[49m\u001b[38;5;241;43m5\u001b[39;49m\u001b[43m)\u001b[49m\u001b[43m)\u001b[49m)\n",
      "\u001b[1;31mTypeError\u001b[0m: 'list' object is not callable"
     ]
    }
   ],
   "source": [
    "print(list(range(2,5)))"
   ]
  },
  {
   "cell_type": "code",
   "execution_count": null,
   "id": "8a244da8",
   "metadata": {},
   "outputs": [],
   "source": []
  },
  {
   "cell_type": "code",
   "execution_count": null,
   "id": "12b29c77",
   "metadata": {},
   "outputs": [],
   "source": []
  },
  {
   "cell_type": "code",
   "execution_count": 1,
   "id": "389ec3e4",
   "metadata": {
    "scrolled": true
   },
   "outputs": [
    {
     "name": "stdout",
     "output_type": "stream",
     "text": [
      "Aku suka MTK\n",
      "Aku suka PKN\n"
     ]
    }
   ],
   "source": [
    "# For loop dengan range\n",
    "matkul = ['MTK','PKN','Penjas','IPA']\n",
    "for i in range (2):\n",
    "    print (\"Aku suka\", matkul[i])"
   ]
  },
  {
   "cell_type": "code",
   "execution_count": 64,
   "id": "33477eca",
   "metadata": {},
   "outputs": [
    {
     "name": "stdout",
     "output_type": "stream",
     "text": [
      "The count is 5\n",
      "The count is 4\n",
      "The count is 3\n",
      "The count is 2\n",
      "The count is 1\n",
      "The count is 0\n",
      "The count is -1\n",
      "The count is -2\n",
      "The count is -3\n",
      "The count is -4\n",
      "close\n"
     ]
    }
   ],
   "source": [
    "# while loop\n",
    "count = 5\n",
    "while (count > -5):\n",
    "    print ('The count is', count)\n",
    "    count -=1\n",
    "print ('close')"
   ]
  },
  {
   "cell_type": "code",
   "execution_count": 67,
   "id": "9bdd4468",
   "metadata": {},
   "outputs": [
    {
     "name": "stdout",
     "output_type": "stream",
     "text": [
      "The count is 5\n",
      "The count is 4\n",
      "The count is 3\n",
      "The count is 2\n",
      "The count is 1\n",
      "The count is 0\n",
      "-1 lanjutan\n"
     ]
    }
   ],
   "source": [
    "# while loop with else\n",
    "count = 5\n",
    "while (count > -1):\n",
    "    print ('The count is', count)\n",
    "    count -=1\n",
    "else:\n",
    "    print(count,'lanjutan')"
   ]
  },
  {
   "cell_type": "code",
   "execution_count": 73,
   "id": "5ef6e068",
   "metadata": {},
   "outputs": [
    {
     "name": "stdout",
     "output_type": "stream",
     "text": [
      "nilai i = 0   \n",
      " nilai j = 4\n",
      "nilai i = 0   \n",
      " nilai j = 5\n",
      "nilai i = 0   \n",
      " nilai j = 6\n",
      "nilai i = 1   \n",
      " nilai j = 4\n",
      "nilai i = 1   \n",
      " nilai j = 5\n",
      "nilai i = 1   \n",
      " nilai j = 6\n"
     ]
    }
   ],
   "source": [
    "# Nested Loop\n",
    "for i in range(2):\n",
    "    for j in range(4,7):\n",
    "        print('nilai i =',i,'  \\n nilai j =',j)"
   ]
  },
  {
   "cell_type": "code",
   "execution_count": 81,
   "id": "ce844b74",
   "metadata": {},
   "outputs": [
    {
     "name": "stdout",
     "output_type": "stream",
     "text": [
      "---Daftar Nama---\n",
      "-1 1\n",
      "0 12\n",
      "1 123\n",
      "2 1234\n",
      "Nomer sudah melalui 5 digit\n"
     ]
    }
   ],
   "source": [
    "# Break Statement (untuk menghentikan suatu loop dengan kondisi tertentu)\n",
    "nomer = [1,12,123,1234,12345,123456,1234567]\n",
    "print(\"---Daftar Nama---\")\n",
    "for i in range(len(nomer)):\n",
    "    if (nomer[i]) >= 5555:\n",
    "        print('Nomer sudah melalui 5 digit')\n",
    "        break\n",
    "    print(i-1, nomer[i])"
   ]
  },
  {
   "cell_type": "code",
   "execution_count": 89,
   "id": "e6c24ed1",
   "metadata": {},
   "outputs": [
    {
     "name": "stdout",
     "output_type": "stream",
     "text": [
      "masukan angka dibawah 100:  5.5\n",
      "pangkat duanya adalah  30.25\n",
      "apakah ingin mengulangi lagi? (y/n)  y\n",
      "masukan angka dibawah 100:  101\n",
      "kegedean woyy, dibawah 100\n",
      "masukan angka dibawah 100:  -100\n",
      "pangkat duanya adalah  10000.0\n",
      "apakah ingin mengulangi lagi? (y/n)  n\n",
      "see you soon\n"
     ]
    }
   ],
   "source": [
    "# Continue statement (melakukan pengulangan dari awal lagi)\n",
    "bilangan = 0\n",
    "pilihan = True\n",
    "\n",
    "while (pilihan is True):\n",
    "    bilangan = float(input('masukan angka dibawah 100:  '))\n",
    "    \n",
    "    if (bilangan > 100):\n",
    "        print('kegedean woyy, dibawah 100')\n",
    "        continue\n",
    "        \n",
    "    print('pangkat duanya adalah ',bilangan**2)\n",
    "    y_n = input(\"apakah ingin mengulangi lagi? (y/n)  \")\n",
    "    \n",
    "    if (y_n in ('n' or 'N')):\n",
    "        pilihan = False\n",
    "        \n",
    "print('see you soon')    "
   ]
  },
  {
   "cell_type": "code",
   "execution_count": 92,
   "id": "21d18ecf",
   "metadata": {},
   "outputs": [
    {
     "name": "stdout",
     "output_type": "stream",
     "text": [
      "nilai saat ini  1\n",
      "nilai saat ini  2\n",
      "nilai saat ini  3\n",
      "nilai 4 ditemukan\n",
      "nilai saat ini  4\n",
      "nilai saat ini  5\n",
      "nilai saat ini  6\n"
     ]
    }
   ],
   "source": [
    "# Pass Statement (pernyataan sintaksis, tidak mengeksekusi perintah apapun)\n",
    "for i in range(1,7):\n",
    "    if i == 4:\n",
    "        print('nilai',i,'ditemukan')\n",
    "    print('nilai saat ini ',i)"
   ]
  },
  {
   "cell_type": "code",
   "execution_count": 95,
   "id": "94b6a9a9",
   "metadata": {},
   "outputs": [
    {
     "name": "stdout",
     "output_type": "stream",
     "text": [
      "nilai saat ini  1\n",
      "nilai saat ini  2\n",
      "nilai saat ini  3\n",
      "nilai 4 ditemukan\n",
      "pass terlewati\n",
      "nilai saat ini  4\n",
      "nilai saat ini  5\n",
      "nilai saat ini  6\n"
     ]
    }
   ],
   "source": [
    "for i in range(1,7):\n",
    "    if i == 4:\n",
    "        print('nilai',i,'ditemukan')\n",
    "        pass\n",
    "        print('pass terlewati')\n",
    "    print('nilai saat ini ',i)"
   ]
  },
  {
   "cell_type": "code",
   "execution_count": null,
   "id": "b57aef73",
   "metadata": {},
   "outputs": [],
   "source": []
  }
 ],
 "metadata": {
  "kernelspec": {
   "display_name": "Python 3 (ipykernel)",
   "language": "python",
   "name": "python3"
  },
  "language_info": {
   "codemirror_mode": {
    "name": "ipython",
    "version": 3
   },
   "file_extension": ".py",
   "mimetype": "text/x-python",
   "name": "python",
   "nbconvert_exporter": "python",
   "pygments_lexer": "ipython3",
   "version": "3.9.12"
  }
 },
 "nbformat": 4,
 "nbformat_minor": 5
}
